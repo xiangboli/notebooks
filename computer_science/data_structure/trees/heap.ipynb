{
 "cells": [
  {
   "cell_type": "markdown",
   "metadata": {
    "slideshow": {
     "slide_type": "slide"
    }
   },
   "source": [
    "# Heap\n",
    "\n",
    "* [Min Heap]()\n",
    "* [Max Heap]()\n",
    "* [Fibonacci Heap]()"
   ]
  },
  {
   "cell_type": "code",
   "execution_count": 4,
   "metadata": {
    "collapsed": false
   },
   "outputs": [
    {
     "name": "stdout",
     "output_type": "stream",
     "text": [
      "2\n"
     ]
    }
   ],
   "source": [
    "class MinHeap:\n",
    "    def __init__(self):\n",
    "        self.queue = []\n",
    "        \n",
    "    def heapify(self, nums):\n",
    "        for num in nums:\n",
    "            self.heappush(self.queue, num)\n",
    "    \n",
    "    def heappush(self, queue, val):\n",
    "        self.queue.append(val)\n",
    "        last = len(self.queue)-1\n",
    "        k = (last-1)//2\n",
    "        \n",
    "        while k >= 0 and queue[k] > val:\n",
    "            self.queue[k], self.queue[last] = self.queue[last], self.queue[k]\n",
    "            last = k\n",
    "            k = (last-1)//2\n",
    "    \n",
    "    def heappop(self):\n",
    "        k = len(self.queue)\n",
    "        if not k:\n",
    "            return None\n",
    "        \n",
    "        value = self.queue[0]\n",
    "        self.queue[0], self.queue[k-1] = self.queue[k-1], self.queue[0]\n",
    "        \n",
    "        self.balance_heap(self.queue, 0)\n",
    "        \n",
    "        return value\n",
    "        \n",
    "        \n",
    "    def balance_heap(self, queue, first):\n",
    "        left = 2 * first + 1\n",
    "        right = 2 * first + 2\n",
    "        \n",
    "        if left < len(self.queue):\n",
    "            if queue[first] > queue[left]:\n",
    "                queue[first], queue[left] = queue[left], queue[first]\n",
    "                self.balance_heap(queue, left)\n",
    "                \n",
    "        if right < len(self.queue):\n",
    "            if queue[first] > queue[right]:\n",
    "                queue[first], queue[right] = queue[right], queue[first]\n",
    "                self.balance_heap(queue, right)\n",
    "\n",
    "                \n",
    "min_heap = MinHeap()\n",
    "nums = [3, 4, 9, 5, 2]\n",
    "min_heap.heapify(nums)\n",
    "value = min_heap.heappop()\n",
    "print(value)            \n",
    "        \n",
    "        "
   ]
  },
  {
   "cell_type": "code",
   "execution_count": 7,
   "metadata": {
    "collapsed": false
   },
   "outputs": [
    {
     "name": "stdout",
     "output_type": "stream",
     "text": [
      "9\n"
     ]
    }
   ],
   "source": [
    "import heapq\n",
    "\n",
    "class MaxHeap:\n",
    "    def __init__(self, nums):\n",
    "        self.queue = nums\n",
    "    \n",
    "    def heapify(self):\n",
    "        heapq._heapify_max(self.queue)\n",
    "    \n",
    "    def heappop(self):\n",
    "        return heapq._heappop_max(self.queue)\n",
    "    \n",
    "\n",
    "nums = [3, 4, 9, 5, 2]\n",
    "max_heap = MaxHeap(nums)\n",
    "max_heap.heapify()\n",
    "value = max_heap.heappop()\n",
    "print(value)"
   ]
  },
  {
   "cell_type": "code",
   "execution_count": null,
   "metadata": {
    "collapsed": true
   },
   "outputs": [],
   "source": []
  }
 ],
 "metadata": {
  "kernelspec": {
   "display_name": "python3_venv_common",
   "language": "python",
   "name": "common"
  },
  "language_info": {
   "codemirror_mode": {
    "name": "ipython",
    "version": 3
   },
   "file_extension": ".py",
   "mimetype": "text/x-python",
   "name": "python",
   "nbconvert_exporter": "python",
   "pygments_lexer": "ipython3",
   "version": "3.7.6"
  }
 },
 "nbformat": 4,
 "nbformat_minor": 0
}
