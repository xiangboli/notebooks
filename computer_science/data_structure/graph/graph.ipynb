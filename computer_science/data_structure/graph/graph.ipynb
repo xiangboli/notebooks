{
 "cells": [
  {
   "cell_type": "markdown",
   "metadata": {},
   "source": [
    "# Graph\n",
    "\n",
    "* [BFS]()\n",
    "* [DFS]()\n",
    "\n",
    "https://www.youtube.com/watch?v=aZXi1unBdJA&list=PLDV1Zeh2NRsDGO4--qE8yH72HFL1Km93P&index=19"
   ]
  },
  {
   "cell_type": "code",
   "execution_count": 17,
   "metadata": {
    "collapsed": false
   },
   "outputs": [
    {
     "name": "stdout",
     "output_type": "stream",
     "text": [
      "A --> B --> C --> D --> E --> F --> "
     ]
    }
   ],
   "source": [
    "from collections import deque\n",
    "\n",
    "def bfs(graph, root):\n",
    "    visited_list = set()\n",
    "    queue = deque()\n",
    "    \n",
    "    queue.append(root)\n",
    "    while len(queue):\n",
    "        node = queue.popleft()\n",
    "        if node not in visited_list:\n",
    "            visited_list.add(node)\n",
    "            print(f'{node} -->', end =\" \")\n",
    "            for adj_node in graph[node]:\n",
    "                queue.append(adj_node)\n",
    "                \n",
    "\n",
    "\n",
    "    \n",
    "graph = {'A': ['B', 'C'],\n",
    "         'B': ['A', 'D', 'E'],\n",
    "         'C': ['A', 'F'],\n",
    "         'D': ['B'],\n",
    "         'E': ['B', 'F'],\n",
    "         'F': ['C', 'E']\n",
    "        }\n",
    "\n",
    "bfs(graph, 'A')\n",
    "        "
   ]
  },
  {
   "cell_type": "markdown",
   "metadata": {
    "collapsed": false
   },
   "source": [
    "## DFS\n",
    "O(V+E) time complexity and O(V) space complexity"
   ]
  },
  {
   "cell_type": "code",
   "execution_count": 36,
   "metadata": {
    "collapsed": false
   },
   "outputs": [
    {
     "name": "stdout",
     "output_type": "stream",
     "text": [
      "0 -->  6 -->  9 -->  10 -->  12 -->  11 -->  4 -->  1 -->  5 -->  "
     ]
    }
   ],
   "source": [
    "def dfs_iterate(graph, root):\n",
    "    stack= []\n",
    "    visited = set()\n",
    "    \n",
    "    stack.append(root)\n",
    "    while len(stack) > 0:\n",
    "        node = stack.pop()\n",
    "        if node not in visited:\n",
    "            visited.add(node)\n",
    "            print(f'{node} --> ', end=\" \")\n",
    "            for next_node in graph[node]:\n",
    "                stack.append(next_node)\n",
    "                \n",
    "\n",
    "    return visited\n",
    "\n",
    "graph = {0: [5, 1, 6],\n",
    "         1: [],\n",
    "         2: [0, 3],\n",
    "         3: [5],\n",
    "         4: [],\n",
    "         5: [4],\n",
    "         6: [4, 9],\n",
    "         7: [6],\n",
    "         8: [7],\n",
    "         9: [11, 12, 10],\n",
    "         10: [],\n",
    "         11: [12],\n",
    "         12: []\n",
    "        }\n",
    "\n",
    "vl = dfs_iterate(graph, 0)   "
   ]
  },
  {
   "cell_type": "markdown",
   "metadata": {},
   "source": [
    "## Preorder, Postorder and Topological Sorting"
   ]
  },
  {
   "cell_type": "code",
   "execution_count": null,
   "metadata": {
    "collapsed": true
   },
   "outputs": [],
   "source": [
    "pre_order = []\n",
    "post_order = []\n",
    "visited = set()\n",
    "_new = set()\n",
    "_active = set()\n",
    "_finished = set()\n",
    "\n",
    "def dfs_dag_all(graph):\n",
    "    if len(visited) > 0:\n",
    "        visited.clear()\n",
    "    for v in graph.keys():\n",
    "        if v not in visited:\n",
    "            dfs_dag(graph, v)\n",
    "        \n",
    "\n",
    "def dfs_dag(graph, v):\n",
    "    pre_order.append(v)\n",
    "    visited.add(v)\n",
    "    for next_v in graph[v]:\n",
    "        if next_v not in visited:\n",
    "            dfs_dag(graph, next_v)\n",
    "            \n",
    "    \n",
    "    post_order.append(v)\n",
    "\n",
    "def dfs_all(graph):\n",
    "    if len(visited) > 0:\n",
    "        visited.clear()\n",
    "    for v in graph.keys():\n",
    "        _new.add(v)\n",
    "    for v in graph.keys():\n",
    "        if v in _new:\n",
    "            dag = dfs(graph, v)\n",
    "            if not dag:\n",
    "                print('This is not a dag')\n",
    "                print(_active)\n",
    "                _active.clear()\n",
    "\n",
    "def dfs(graph,v):\n",
    "    _active.add(v)\n",
    "    _new.remove(v)\n",
    "    pre_order.append(v)\n",
    "    \n",
    "    for w in graph[v]:\n",
    "        if w in _active:\n",
    "            return False\n",
    "        elif w in _new:\n",
    "            if not dfs(graph, w):\n",
    "                return False\n",
    "    \n",
    "    _finished.add(v)\n",
    "    _active.remove(v)\n",
    "    post_order.append(v)\n",
    "    \n",
    "    return True\n",
    "        \n",
    "\n",
    "def topological_sort(post_order):\n",
    "    return post_order[::-1]\n",
    "            \n",
    "graph = {0: [5, 1, 6],\n",
    "         1: [],\n",
    "         2: [0, 3],\n",
    "         3: [5],\n",
    "         4: [],\n",
    "         5: [4],\n",
    "         6: [4, 9],\n",
    "         7: [6],\n",
    "         8: [7],\n",
    "         9: [11, 12, 10],\n",
    "         10: [],\n",
    "         11: [12],\n",
    "         12: []\n",
    "        }\n",
    "\n",
    "graph_c = {0: [1, 6],\n",
    "         1: [],\n",
    "         2: [0, 3],\n",
    "         3: [5],\n",
    "         4: [5],\n",
    "         5: [0],\n",
    "         6: [4],\n",
    "        }\n",
    "\n",
    "dfs_all(graph)\n",
    "print(f'pre_order: {pre_order}') \n",
    "print(f'post_order: {post_order}') \n",
    "sorted_order = topological_sort(post_order)\n",
    "print(f'topological sort: {sorted_order}')"
   ]
  },
  {
   "cell_type": "markdown",
   "metadata": {},
   "source": [
    "## Find a Cycle in Directed Graph"
   ]
  },
  {
   "cell_type": "code",
   "execution_count": 43,
   "metadata": {
    "collapsed": false
   },
   "outputs": [
    {
     "name": "stdout",
     "output_type": "stream",
     "text": [
      "False\n",
      "{0, 4, 5, 6}\n"
     ]
    }
   ],
   "source": [
    "_new = set()\n",
    "_active = set()\n",
    "_finished = set()\n",
    "def preprocess(graph):\n",
    "    for v in graph:\n",
    "        _new.add(v)\n",
    "        \n",
    "def is_dag(graph, v):\n",
    "    _active.add(v)\n",
    "    _new.remove(v)\n",
    "    for w in graph[v]:\n",
    "        if w in _active:\n",
    "            return False\n",
    "        elif w in _new:\n",
    "            if not is_dag(graph, w):\n",
    "                return False\n",
    "    _finished.add(v)\n",
    "    _active.remove(v)\n",
    "    return True\n",
    "\n",
    "graph_c = {0: [1, 6],\n",
    "         1: [],\n",
    "         2: [0, 3],\n",
    "         3: [5],\n",
    "         4: [5],\n",
    "         5: [0],\n",
    "         6: [4],\n",
    "        }\n",
    "\n",
    "preprocess(graph_c)\n",
    "dag = is_dag(graph_c, 0)\n",
    "print(dag)\n",
    "print(_active)\n",
    "\n",
    "\n",
    "    "
   ]
  },
  {
   "cell_type": "markdown",
   "metadata": {},
   "source": [
    "## Union Find Data Structure"
   ]
  },
  {
   "cell_type": "code",
   "execution_count": 66,
   "metadata": {
    "collapsed": false
   },
   "outputs": [
    {
     "name": "stdout",
     "output_type": "stream",
     "text": [
      "\n",
      "Disjoint sets after union(2,1), union(4,3) and union(6,5):\n",
      "[0]\n",
      "[1, 2]\n",
      "[3, 4]\n",
      "[5, 6]\n",
      "[7]\n",
      "[8]\n",
      "\n",
      "Disjoin sets after union(2,1)\n",
      "[0]\n",
      "[1, 2, 3, 4]\n",
      "[5, 6]\n",
      "[7]\n",
      "[8]\n",
      "\n",
      "Disjoin sets after union(1,5)\n",
      "[0]\n",
      "[1, 2, 3, 4, 5, 6]\n",
      "[7]\n",
      "[8]\n"
     ]
    }
   ],
   "source": [
    "class TreeNode:\n",
    "    def __init__(self, val):\n",
    "        self.val = val\n",
    "        self.parent = self\n",
    "        self.rank = 0\n",
    "\n",
    "class UnionFind:\n",
    "    def __init__(self):\n",
    "        self.__sub_set = {}\n",
    "    \n",
    "    def sub_set(self, val):\n",
    "        return self.__sub_set[val]\n",
    "        \n",
    "    def make_set(self, val):\n",
    "        self.__sub_set[val] = TreeNode(val)\n",
    "    \n",
    "    def find(self, node):\n",
    "        if node.parent == node:\n",
    "            return node\n",
    "        else:\n",
    "            return self.find(node.parent)\n",
    "    \n",
    "    def union(self, node_x, node_y):\n",
    "        x_root = self.find(node_x)\n",
    "        y_root = self.find(node_y)\n",
    "        \n",
    "        if x_root.rank > y_root.rank:\n",
    "            y_root.parent = x_root\n",
    "        elif x_root.rank < y_root.rank:\n",
    "            x_root.parent = y_root\n",
    "        elif x_root != y_root:\n",
    "            y_root.parent = x_root\n",
    "            x_root.rank = x_root.rank + 1\n",
    "    \n",
    "    def print_sub_sets(self):\n",
    "        sub_sets = {}\n",
    "        for node in self.__sub_set.values():\n",
    "            root = self.find(node)\n",
    "            sub_sets.setdefault(root, []).append(node.val)\n",
    "        \n",
    "        for my_set in sub_sets.values():\n",
    "            print(my_set)\n",
    "\n",
    "if __name__=='__main__':\n",
    "    uf = UnionFind()\n",
    "    for i in range(9):\n",
    "        uf.make_set(i)\n",
    "    uf.union(uf.sub_set(1), uf.sub_set(2))\n",
    "    uf.union(uf.sub_set(3), uf.sub_set(4))\n",
    "    uf.union(uf.sub_set(5), uf.sub_set(6))\n",
    "    print(\"\\nDisjoint sets after union(2,1), union(4,3) and union(6,5):\")\n",
    "    uf.print_sub_sets()\n",
    "    \n",
    "    uf.union(uf.sub_set(2), uf.sub_set(4))\n",
    "    print(\"\\nDisjoin sets after union(2,1)\")\n",
    "    uf.print_sub_sets()\n",
    "    \n",
    "    uf.union(uf.sub_set(1), uf.sub_set(5))\n",
    "    print(\"\\nDisjoin sets after union(1,5)\")\n",
    "    uf.print_sub_sets()"
   ]
  },
  {
   "cell_type": "code",
   "execution_count": 71,
   "metadata": {
    "collapsed": false
   },
   "outputs": [
    {
     "name": "stdout",
     "output_type": "stream",
     "text": [
      "[0, 1]\n",
      "[2]\n",
      "[0, 1, 2]\n",
      "found cycle\n"
     ]
    }
   ],
   "source": [
    "from collections import defaultdict\n",
    "class Graph:\n",
    "    def __init__(self, num_of_v):\n",
    "        self.num_of_v = num_of_v\n",
    "        self.edges = defaultdict(list)\n",
    "    \n",
    "    def add_edge(self, u, v):\n",
    "        self.edges[u].append(v)\n",
    "\n",
    "    def is_cycle(self):\n",
    "        uf = UnionFind()\n",
    "        for v in range(self.num_of_v):\n",
    "            uf.make_set(v)\n",
    "        \n",
    "        for u in self.edges.keys():\n",
    "            node_u = uf.sub_set(u)\n",
    "            node_u.parent = uf.find(node_u)\n",
    "            for v in self.edges[u]:\n",
    "                node_v = uf.sub_set(v)\n",
    "                node_v.parent = uf.find(node_v)\n",
    "                if node_u.parent == node_v.parent:\n",
    "                    return True\n",
    "                else:\n",
    "                    uf.union(node_u, node_v)\n",
    "            \n",
    "                uf.print_sub_sets()\n",
    "g = Graph(3)\n",
    "g.add_edge(0,1)\n",
    "g.add_edge(1,2)\n",
    "g.add_edge(0,2)\n",
    "\n",
    "if g.is_cycle():\n",
    "    print('found cycle')\n",
    "else:\n",
    "    print('not found any cycle')"
   ]
  },
  {
   "cell_type": "markdown",
   "metadata": {},
   "source": [
    "## MST"
   ]
  },
  {
   "cell_type": "code",
   "execution_count": 75,
   "metadata": {
    "collapsed": false
   },
   "outputs": [
    {
     "name": "stdout",
     "output_type": "stream",
     "text": [
      "2 -- 3: 4\n",
      "0 -- 3: 5\n",
      "0 -- 1: 10\n"
     ]
    }
   ],
   "source": [
    "from collections import defaultdict\n",
    "class UndirectedGraphWithWeight:\n",
    "    def __init__(self, num_of_v):\n",
    "        self.num_of_v = num_of_v\n",
    "        self.graph = []\n",
    "    \n",
    "    def add_edge(self, u, v, w):\n",
    "        self.graph.append([u,v,w])\n",
    "    \n",
    "    def kruskai_mst(self):\n",
    "        uf = UnionFind()\n",
    "        \n",
    "        for i in range(self.num_of_v):\n",
    "            uf.make_set(i)\n",
    "        \n",
    "        self.graph = sorted(self.graph, key=lambda g:g[2])\n",
    "        \n",
    "        visited = []\n",
    "        for g in self.graph:\n",
    "            u,v,w = g\n",
    "            \n",
    "            u_parent = uf.find(uf.sub_set(u))\n",
    "            v_parent = uf.find(uf.sub_set(v))\n",
    "            \n",
    "            if u_parent != v_parent:\n",
    "                uf.union(uf.sub_set(u), uf.sub_set(v))\n",
    "                visited.append(g)\n",
    "        \n",
    "        for g in visited:\n",
    "            print(f'{g[0]} -- {g[1]}: {g[2]}')\n",
    "        \n",
    "    def prim_mst(self):\n",
    "        \n",
    "\n",
    "graph = UndirectedGraphWithWeight(4) \n",
    "graph.add_edge(0, 1, 10) \n",
    "graph.add_edge(0, 2, 6) \n",
    "graph.add_edge(0, 3, 5) \n",
    "graph.add_edge(1, 3, 15) \n",
    "graph.add_edge(2, 3, 4) \n",
    "graph.kruskai_mst()\n",
    "                \n",
    "            "
   ]
  },
  {
   "cell_type": "markdown",
   "metadata": {
    "collapsed": true
   },
   "source": [
    "## Strong Component Bridges"
   ]
  },
  {
   "cell_type": "code",
   "execution_count": 11,
   "metadata": {
    "collapsed": false
   },
   "outputs": [
    {
     "name": "stdout",
     "output_type": "stream",
     "text": [
      "[]\n",
      "{2, 3, 5}\n"
     ]
    }
   ],
   "source": [
    "from collections import defaultdict\n",
    "class StrongComponents:\n",
    "    def __init__(self, n):\n",
    "        self.nodes = n\n",
    "        self.graph = defaultdict(set)\n",
    "        self.disc = [-1 for _ in range(n)]\n",
    "        self.low = [-1 for _ in range(n)]\n",
    "        self.parent = [-1 for _ in range(n)]\n",
    "        self.time = 0\n",
    "        self.visited = []\n",
    "        self.bridges = []\n",
    "        self.art_points = set()\n",
    "    \n",
    "    def find_bridges(self, pairs):\n",
    "        for pair in pairs:\n",
    "            u,v = pair\n",
    "            self.graph[u].add(v)\n",
    "            self.graph[v].add(u)\n",
    "        \n",
    "        for node in range(self.nodes):\n",
    "            if node not in self.visited:\n",
    "                #self.dfs_bridges(node)\n",
    "                self.dfs_artpoints(node)\n",
    "        \n",
    "       \n",
    "    \n",
    "    def dfs_bridges(self, u):\n",
    "        self.disc[u] = self.time\n",
    "        self.low[u] = self.time\n",
    "        self.time += 1\n",
    "        self.visited.append(u)\n",
    "        \n",
    "        for v in self.graph[u]:\n",
    "            if v not in self.visited:\n",
    "                self.parent[v] = u\n",
    "                self.dfs_bridges(v)\n",
    "                \n",
    "                self.low[u] = min(self.low[u], self.low[v])\n",
    "                \n",
    "                if self.disc[u] < self.low[v]:\n",
    "                    self.bridges.append((u,v))\n",
    "                \n",
    "            elif self.parent[u] != v:\n",
    "                self.low[u] = min(self.low[u], self.disc[v])\n",
    "                \n",
    "    def dfs_artpoints(self, u):\n",
    "        self.disc[u] = self.time\n",
    "        self.low[u] = self.time\n",
    "        self.time += 1\n",
    "        self.visited.append(u)\n",
    "        children = 0\n",
    "        for v in self.graph[u]:\n",
    "            if v not in self.visited:\n",
    "                self.parent[v] = u\n",
    "                children += 1\n",
    "                self.dfs_artpoints(v)\n",
    "                \n",
    "                self.low[u] = min(self.low[u], self.low[v])\n",
    "                \n",
    "                if self.parent[u] == -1 and children > 1:\n",
    "                    self.art_points.add(u)\n",
    "                \n",
    "                if self.parent[u] != -1 and self.low[v] >= self.disc[u]:\n",
    "                    self.art_points.add(u)\n",
    "                \n",
    "                \n",
    "            elif self.parent[u] != v:\n",
    "                self.low[u] = min(self.low[u], self.disc[v])\n",
    "            \n",
    "\n",
    "\n",
    "pairs = [(0, 1), (1, 2), (0,2), (2,3),(2,5), (3,4), (5,6), (5,8), (6,7), (7,8)]\n",
    "scb = StrongComponents(9)\n",
    "scb.find_bridges(pairs)\n",
    "print(scb.bridges)\n",
    "print(scb.art_points)"
   ]
  },
  {
   "cell_type": "code",
   "execution_count": null,
   "metadata": {
    "collapsed": true
   },
   "outputs": [],
   "source": []
  }
 ],
 "metadata": {
  "kernelspec": {
   "display_name": "python3_venv_common",
   "language": "python",
   "name": "common"
  },
  "language_info": {
   "codemirror_mode": {
    "name": "ipython",
    "version": 3
   },
   "file_extension": ".py",
   "mimetype": "text/x-python",
   "name": "python",
   "nbconvert_exporter": "python",
   "pygments_lexer": "ipython3",
   "version": "3.7.6"
  }
 },
 "nbformat": 4,
 "nbformat_minor": 0
}
