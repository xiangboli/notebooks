{
 "cells": [
  {
   "cell_type": "markdown",
   "metadata": {},
   "source": [
    "# Graph\n",
    "\n",
    "* [BFS]()\n",
    "* [DFS]()"
   ]
  },
  {
   "cell_type": "code",
   "execution_count": 8,
   "metadata": {
    "collapsed": false
   },
   "outputs": [
    {
     "name": "stdout",
     "output_type": "stream",
     "text": [
      "A --> B --> C --> D --> E --> F --> "
     ]
    }
   ],
   "source": [
    "from collections import deque\n",
    "\n",
    "def bfs(graph):\n",
    "    visited_list = set()\n",
    "    queue = deque()\n",
    "    for node, adjlist in graph.items():\n",
    "        queue.append(node)\n",
    "        visited_list.add(node)\n",
    "        break\n",
    "    while len(queue):\n",
    "        node = queue.popleft()\n",
    "        print(f'{node} -->', end =\" \")\n",
    "        if graph[node]:\n",
    "            for adj_node in graph[node]:\n",
    "                if adj_node not in visited_list and adj_node not in queue:\n",
    "                    queue.append(adj_node)\n",
    "                    visited_list.add(adj_node)\n",
    "\n",
    "    \n",
    "graph = {'A': ['B', 'C'],\n",
    "         'B': ['A', 'D', 'E'],\n",
    "         'C': ['A', 'F'],\n",
    "         'D': ['B'],\n",
    "         'E': ['B', 'F'],\n",
    "         'F': ['C', 'E']\n",
    "        }\n",
    "\n",
    "bfs(graph)\n",
    "        "
   ]
  },
  {
   "cell_type": "code",
   "execution_count": 12,
   "metadata": {
    "collapsed": false
   },
   "outputs": [
    {
     "name": "stdout",
     "output_type": "stream",
     "text": [
      "A -->  B -->  D -->  E -->  F -->  C -->  "
     ]
    },
    {
     "data": {
      "text/plain": [
       "'A'"
      ]
     },
     "execution_count": 12,
     "metadata": {},
     "output_type": "execute_result"
    }
   ],
   "source": [
    "def dfs(graph, root, stack, visted):\n",
    "    stack.append(root)\n",
    "    visted.add(root)\n",
    "    print(f'{root} --> ', end=\" \")\n",
    "    for node in graph[root]:\n",
    "        if node not in visited:\n",
    "            dfs(graph, node, stack, visited)\n",
    "    return stack.pop()\n",
    "    \n",
    "graph = {'A': ['B', 'C'],\n",
    "         'B': ['A', 'D', 'E'],\n",
    "         'C': ['A', 'F'],\n",
    "         'D': ['B'],\n",
    "         'E': ['B', 'F'],\n",
    "         'F': ['C', 'E']\n",
    "        }\n",
    "\n",
    "stack = deque()\n",
    "visited = set()\n",
    "dfs(graph, 'A', stack, visited)\n",
    "    "
   ]
  },
  {
   "cell_type": "code",
   "execution_count": null,
   "metadata": {
    "collapsed": true
   },
   "outputs": [],
   "source": []
  }
 ],
 "metadata": {
  "kernelspec": {
   "display_name": "python3_venv_common",
   "language": "python",
   "name": "common"
  },
  "language_info": {
   "codemirror_mode": {
    "name": "ipython",
    "version": 3
   },
   "file_extension": ".py",
   "mimetype": "text/x-python",
   "name": "python",
   "nbconvert_exporter": "python",
   "pygments_lexer": "ipython3",
   "version": "3.7.6"
  }
 },
 "nbformat": 4,
 "nbformat_minor": 0
}
