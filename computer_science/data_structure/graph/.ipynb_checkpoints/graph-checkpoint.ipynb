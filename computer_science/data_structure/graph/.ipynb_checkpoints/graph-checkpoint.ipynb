{
 "cells": [
  {
   "cell_type": "markdown",
   "metadata": {},
   "source": [
    "# Graph\n",
    "\n",
    "* [BFS]()\n",
    "* [DFS]()"
   ]
  },
  {
   "cell_type": "code",
   "execution_count": 5,
   "metadata": {
    "collapsed": false
   },
   "outputs": [
    {
     "name": "stdout",
     "output_type": "stream",
     "text": [
      "A --> B --> C --> D --> E --> F --> "
     ]
    }
   ],
   "source": [
    "from collections import deque\n",
    "\n",
    "def bfs(graph):\n",
    "    visited_list = []\n",
    "    queue = deque()\n",
    "    for node, adjlist in graph.items():\n",
    "        queue.append(node)\n",
    "        visited_list.append(node)\n",
    "        break\n",
    "    while len(queue):\n",
    "        node = queue.popleft()\n",
    "        print(f'{node} -->', end =\" \")\n",
    "        if graph[node]:\n",
    "            for adj_node in graph[node]:\n",
    "                if adj_node not in visited_list and adj_node not in queue:\n",
    "                    queue.append(adj_node)\n",
    "                    visited_list.append(node)\n",
    "\n",
    "    \n",
    "graph = {'A': ['B', 'C'],\n",
    "         'B': ['A', 'D', 'E'],\n",
    "         'C': ['A', 'F'],\n",
    "         'D': ['B'],\n",
    "         'E': ['B', 'F'],\n",
    "         'F': ['C', 'E']\n",
    "        }\n",
    "\n",
    "bfs(graph)\n",
    "        "
   ]
  },
  {
   "cell_type": "code",
   "execution_count": null,
   "metadata": {
    "collapsed": true
   },
   "outputs": [],
   "source": []
  }
 ],
 "metadata": {
  "kernelspec": {
   "display_name": "python3_venv_common",
   "language": "python",
   "name": "common"
  },
  "language_info": {
   "codemirror_mode": {
    "name": "ipython",
    "version": 3
   },
   "file_extension": ".py",
   "mimetype": "text/x-python",
   "name": "python",
   "nbconvert_exporter": "python",
   "pygments_lexer": "ipython3",
   "version": "3.7.6"
  }
 },
 "nbformat": 4,
 "nbformat_minor": 0
}
