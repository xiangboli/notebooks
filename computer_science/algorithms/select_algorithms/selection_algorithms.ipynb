{
 "cells": [
  {
   "cell_type": "markdown",
   "metadata": {},
   "source": [
    "# Selection Algorithms\n",
    "\n",
    "* [Quikc Select]()\n",
    "* [Median of Medians]()\n",
    "* [Heap Select]()\n",
    "* [Intro Select]()"
   ]
  },
  {
   "cell_type": "markdown",
   "metadata": {},
   "source": [
    "## Quick Select\n",
    "O(n^2) worst case and O(n) average case"
   ]
  },
  {
   "cell_type": "code",
   "execution_count": 26,
   "metadata": {
    "collapsed": false
   },
   "outputs": [
    {
     "name": "stdout",
     "output_type": "stream",
     "text": [
      "3\n"
     ]
    }
   ],
   "source": [
    "import random\n",
    "def pick_pivot(nums):\n",
    "    return random.choice(nums)\n",
    "    #val = select_pivot(nums)\n",
    "    print(f'medium: {val}')\n",
    "    return val\n",
    "\n",
    "def split(nums, low, high):\n",
    "    pivot = nums[(low+high)//2]\n",
    "    left = low - 1\n",
    "    right = high + 1\n",
    "    \n",
    "    while True:\n",
    "        left += 1\n",
    "        while nums[left] < pivot:\n",
    "            left += 1\n",
    "            \n",
    "        right -= 1  \n",
    "        while nums[right] > pivot:\n",
    "            right -= 1\n",
    "        \n",
    "        if left >= right:\n",
    "            return right\n",
    "        \n",
    "        nums[left], nums[right] = nums[right], nums[left]\n",
    "        \n",
    "def quick_select(nums, low, high, k): \n",
    "    if low == high:       \n",
    "        return nums[low]  \n",
    "\n",
    "    pivot = split(nums, low, high)\n",
    "    if k <= pivot:\n",
    "        return quick_select(nums, low, pivot, k)\n",
    "    else:\n",
    "        return quick_select(nums, pivot + 1, high, k)\n",
    "\n",
    "nums = [5,2,4,1,3,6,0]\n",
    "nth_largest = quick_select(nums, 0, len(nums)-1, 3)\n",
    "print(nth_largest)\n",
    "# nums = [1,2,3,4,5,6,7,8,9,10,11]\n",
    "# n = len(nums)//2\n",
    "# median = quick_select(nums, n, pick_pivot)\n",
    "#median2 = quick_select(nums, n-1, pick_pivot)\n",
    "#print(median)\n",
    "#print(median2)"
   ]
  },
  {
   "cell_type": "markdown",
   "metadata": {},
   "source": [
    "# Median of Medians\n",
    "O(n) worst and average time complexity"
   ]
  },
  {
   "cell_type": "code",
   "execution_count": 15,
   "metadata": {
    "collapsed": false
   },
   "outputs": [],
   "source": [
    "def select_pivot(nums):\n",
    "    i = 0\n",
    "    chunk_size = 5\n",
    "    n = len(nums)\n",
    "    if n < 5:\n",
    "        return n//2\n",
    "        \n",
    "    chunks = [nums[i:i+chunk_size] for i in range(0, n, chunk_size) if i < n]\n",
    "    full_chunks = [chunk for chunk in chunks if len(chunk) == 5]\n",
    "    \n",
    "    for ck in full_chunks:\n",
    "        ck.sort()\n",
    "    \n",
    "    medians = [ck[2] for ck in full_chunks]\n",
    "    \n",
    "    if len(medians) <= 5:\n",
    "        pivot = sorted(medians)[len(medians) // 2]\n",
    "    else:\n",
    "        pivot = select_pivot(len(medians) // 2)\n",
    "    \n",
    "    return pivot"
   ]
  },
  {
   "cell_type": "code",
   "execution_count": null,
   "metadata": {
    "collapsed": true
   },
   "outputs": [],
   "source": []
  }
 ],
 "metadata": {
  "kernelspec": {
   "display_name": "python3_venv_common",
   "language": "python",
   "name": "common"
  },
  "language_info": {
   "codemirror_mode": {
    "name": "ipython",
    "version": 3
   },
   "file_extension": ".py",
   "mimetype": "text/x-python",
   "name": "python",
   "nbconvert_exporter": "python",
   "pygments_lexer": "ipython3",
   "version": "3.7.6"
  }
 },
 "nbformat": 4,
 "nbformat_minor": 0
}
