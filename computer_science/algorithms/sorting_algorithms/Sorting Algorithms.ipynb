{
 "cells": [
  {
   "attachments": {},
   "cell_type": "markdown",
   "metadata": {},
   "source": [
    "# Sorting Algorithms \n",
    "* [Bubble Sort](#Bubble-Sort)\n",
    "* [Selection Sort](#Selection-Sort)\n",
    "* [Insertion Sort](#Insertion-Sort)\n",
    "* [Merge Sort](#Merge-Sort)\n",
    "* [Quick Sort](#Quick-Sort)\n",
    "* [Heap Sort](#Heap-Sort)\n",
    "![time_complexity](images/time_complexity.png)"
   ]
  },
  {
   "cell_type": "code",
   "execution_count": 73,
   "metadata": {},
   "outputs": [
    {
     "name": "stdout",
     "output_type": "stream",
     "text": [
      "The memory_profiler extension is already loaded. To reload it, use:\n",
      "  %reload_ext memory_profiler\n"
     ]
    }
   ],
   "source": [
    "%load_ext memory_profiler\n",
    "#%load_ext line_profiler\n",
    "\n",
    "import random\n",
    "\n",
    "def get_random():\n",
    "    #nums = random.sample(range(0,10000), 10000)\n",
    "    nums = random.sample(range(0,50), 7)\n",
    "    #print(f'before: {nums}\\n')\n",
    "    return nums"
   ]
  },
  {
   "attachments": {},
   "cell_type": "markdown",
   "metadata": {},
   "source": [
    "## Bubble Sort \n",
    "O(n^2) time complexity and O(1) space complexity, a generic bad algorithm. It's a stable sort.\n",
    "![Bubble-sort-example-300px.gif](images/bubble_sort.gif)"
   ]
  },
  {
   "cell_type": "code",
   "execution_count": 60,
   "metadata": {},
   "outputs": [
    {
     "name": "stdout",
     "output_type": "stream",
     "text": [
      "peak memory: 37.45 MiB, increment: 0.00 MiB\n",
      "CPU times: user 17.4 s, sys: 169 ms, total: 17.6 s\n",
      "Wall time: 18.5 s\n"
     ]
    }
   ],
   "source": [
    "#%%file sorting_algorithms.py\n",
    "def bubble_sort(nums):\n",
    "    swapped = True\n",
    "    n = len(nums)\n",
    "    while swapped:\n",
    "        swapped = False\n",
    "        for i in range(n-1):\n",
    "            if nums[i] > nums[i+1]:\n",
    "                nums[i], nums[i+1] = nums[i+1], nums[i]\n",
    "                swapped = True\n",
    "        n = n-1\n",
    "\n",
    "nums = get_random()\n",
    "%time %memit bubble_sort(nums)\n",
    "#print(f'\\nafter: {nums}')\n",
    "\n",
    "#from sorting_algorithms import bubble_sort\n",
    "#%lprun -f bubble_sort bubble_sort(nums)\n",
    "#%mprun -f bubble_sort bubble_sort(nums)"
   ]
  },
  {
   "attachments": {},
   "cell_type": "markdown",
   "metadata": {},
   "source": [
    "## Selection Sort\n",
    "`O(n^2)` time complexity on all cases and `O(1)` space complexity, faster than buble sort, not suitable for big data. It's an unstable sort\n",
    "![Selection-Sort-Animation.gif](images/selection_sort.gif)"
   ]
  },
  {
   "cell_type": "code",
   "execution_count": 61,
   "metadata": {},
   "outputs": [
    {
     "name": "stdout",
     "output_type": "stream",
     "text": [
      "peak memory: 37.52 MiB, increment: 0.00 MiB\n",
      "CPU times: user 6.84 s, sys: 45.8 ms, total: 6.88 s\n",
      "Wall time: 7.06 s\n"
     ]
    }
   ],
   "source": [
    "def selection_sort(nums):\n",
    "    n = len(nums)\n",
    "    for i in range(n-1):\n",
    "        _min = nums[i]\n",
    "        index = i\n",
    "        for j in range(i, n-1):\n",
    "            if _min > nums[j+1]:\n",
    "                _min = nums[j+1]\n",
    "                index = j+1\n",
    "        \n",
    "        nums[index] = nums[i]\n",
    "        nums[i] = _min\n",
    "\n",
    "nums = get_random()\n",
    "%time %memit selection_sort(nums)\n",
    "#print(f'\\nafter: {nums}')\n"
   ]
  },
  {
   "attachments": {},
   "cell_type": "markdown",
   "metadata": {},
   "source": [
    "## Insertion Sort\n",
    "`O(n^2)` time complexity and `O(1)` space complexity. faster than bubble sort, because the lower bond is sorted already. not suitable for large data. It's a stable sort.\n",
    "![Insertion-sort-example-300px.gif](images/insertion_sort.gif)"
   ]
  },
  {
   "cell_type": "code",
   "execution_count": 62,
   "metadata": {},
   "outputs": [
    {
     "name": "stdout",
     "output_type": "stream",
     "text": [
      "peak memory: 37.53 MiB, increment: 0.01 MiB\n",
      "CPU times: user 11.3 s, sys: 94.8 ms, total: 11.4 s\n",
      "Wall time: 11.7 s\n"
     ]
    }
   ],
   "source": [
    "def inserstion_sort(nums):\n",
    "    n = len(nums)\n",
    "    for i in range(n-1):\n",
    "        if nums[i] > nums[i+1]:\n",
    "            nums[i], nums[i+1] = nums[i+1], nums[i]\n",
    "            for j in range(i, 1, -1):\n",
    "                if nums[j] < nums[j-1]:\n",
    "                    nums[j], nums[j-1] = nums[j-1], nums[j]\n",
    "                else:\n",
    "                    break\n",
    "                    \n",
    "nums = get_random()\n",
    "%time %memit inserstion_sort(nums)\n",
    "#print(f'\\nafter: {nums}')"
   ]
  },
  {
   "attachments": {},
   "cell_type": "markdown",
   "metadata": {},
   "source": [
    "## Merge Sort\n",
    "`O(nlog(n))` Time complixty and `O(n)` space complexity, good choice to sort a linkedlist which only require `O(1)` space, slow random access performance of linkedlist makes quicksort perform poorly and others like heapsort impossible. It's a stable sort.\n",
    "![300px-Merge_sort_algorithm_diagram.svg.png](images/merge_sort.png)"
   ]
  },
  {
   "cell_type": "code",
   "execution_count": 63,
   "metadata": {},
   "outputs": [
    {
     "name": "stdout",
     "output_type": "stream",
     "text": [
      "peak memory: 38.05 MiB, increment: 0.40 MiB\n",
      "CPU times: user 143 ms, sys: 21.8 ms, total: 165 ms\n",
      "Wall time: 280 ms\n"
     ]
    }
   ],
   "source": [
    "def merge_sort(nums):\n",
    "    n = len(nums)-1\n",
    "    if not n:\n",
    "        return nums\n",
    "    \n",
    "    mid = n//2\n",
    "    \n",
    "    l_nums = merge_sort(nums[:mid+1]) \n",
    "    r_nums = merge_sort(nums[mid+1:])\n",
    "    \n",
    "    return merge(l_nums, r_nums)\n",
    "    \n",
    "    \n",
    "def merge(l_nums, r_nums):\n",
    "    new_nums = []\n",
    "    ln = len(l_nums)\n",
    "    rn = len(r_nums)\n",
    "    \n",
    "    if l_nums[ln-1] <= r_nums[0]:\n",
    "        new_nums.extend(l_nums)\n",
    "        new_nums.extend(r_nums)\n",
    "        return new_nums\n",
    "    elif l_nums[0] >= r_nums[rn-1]:\n",
    "        new_nums.extend(r_nums)\n",
    "        new_nums.extend(l_nums)\n",
    "        return new_nums\n",
    "    \n",
    "    l_index, r_index = 0, 0\n",
    "    \n",
    "    for i in range(ln+rn-1):\n",
    "        if l_index < ln and r_index < rn:\n",
    "            if l_nums[l_index] <= r_nums[r_index]:\n",
    "                new_nums.append(l_nums[l_index])\n",
    "                l_index += 1\n",
    "            else:\n",
    "                new_nums.append(r_nums[r_index])\n",
    "                r_index += 1\n",
    "    \n",
    "    if l_index < ln:\n",
    "        new_nums.extend(l_nums[l_index:])\n",
    "    \n",
    "    if r_index < rn:\n",
    "        new_nums.extend(r_nums[r_index:])\n",
    "                       \n",
    "    return new_nums\n",
    "\n",
    "nums = get_random()\n",
    "%time %memit nums = merge_sort(nums)\n",
    "#print(f'\\nafter: {nums}')"
   ]
  },
  {
   "attachments": {},
   "cell_type": "markdown",
   "metadata": {},
   "source": [
    "## Quick Sort\n",
    "`O(nlogn)` time complexity and `O(nlogn)` space complexty, commonly used algorithm for sorting. When implemented well, it can be about two or three times faster than its main competitors, merge sort and heapsort. It's an unstable sort.\n",
    "![quick_sort_partition_animation.gif](images/quick_sort.gif)"
   ]
  },
  {
   "cell_type": "code",
   "execution_count": 66,
   "metadata": {},
   "outputs": [
    {
     "name": "stdout",
     "output_type": "stream",
     "text": [
      "peak memory: 37.13 MiB, increment: 0.01 MiB\n",
      "CPU times: user 41.4 ms, sys: 38.5 ms, total: 79.9 ms\n",
      "Wall time: 218 ms\n"
     ]
    }
   ],
   "source": [
    "def quick_sort(nums):\n",
    "    n = len(nums)-1\n",
    "    if not n:\n",
    "        return\n",
    "    \n",
    "    pivot = n\n",
    "    index = split(nums, n, pivot) \n",
    "    left_nums = quick_sort(nums[:index])\n",
    "    right_nums = quick_sort(nums[index+1:])\n",
    "    \n",
    "    left_nums.append(nums[index])\n",
    "    left_nums.extend(right_nums)\n",
    "    \n",
    "    return left_nums\n",
    "    \n",
    "\n",
    "def split(nums, pivot):\n",
    "    left = 0\n",
    "    right = pivot-1\n",
    "    \n",
    "    while left < right:\n",
    "        if nums[left] < nums[pivot]:\n",
    "            left += 1\n",
    "            continue\n",
    "        if nums[right] > nums[pivot]:\n",
    "            right -= 1\n",
    "            continue\n",
    "        \n",
    "        nums[left], nums[right] = nums[right], nums[left]\n",
    "    \n",
    "    nums[left], nums[pivot] = nums[pivot], nums[left]\n",
    "    \n",
    "    return left\n",
    "    \n",
    "nums = get_random()\n",
    "%time %memit nums = merge_sort(nums)\n",
    "#print(f'\\nafter: {nums}')     "
   ]
  },
  {
   "cell_type": "markdown",
   "metadata": {},
   "source": [
    "## Heap Sort\n",
    "`O(nlogn)` time complexity and `O(1)` space complexity. Slower than quicksort and merge sort, but has better memory efficiency. It's an unstable sort.\n",
    "![heap_sort](images/heap_sort.gif)"
   ]
  },
  {
   "cell_type": "code",
   "execution_count": 74,
   "metadata": {},
   "outputs": [
    {
     "name": "stdout",
     "output_type": "stream",
     "text": [
      "peak memory: 37.45 MiB, increment: -0.04 MiB\n",
      "CPU times: user 42.7 ms, sys: 36.6 ms, total: 79.3 ms\n",
      "Wall time: 214 ms\n",
      "\n",
      "after: [4, 10, 11, 20, 26, 36, 47]\n"
     ]
    }
   ],
   "source": [
    "def heapify(nums, n, i)\n",
    "    k = (i+n-1)//2\n",
    "    if nums[i] < nums[k]:\n",
    "        nums[i], nums[k] = nums[k], nums[i]\n",
    "    heapify(nums, n, i)\n",
    "def heap_sort(nums):\n",
    "    n = 0\n",
    "    \n",
    "    n += 1        \n",
    "    heap_sort(nums)\n",
    "        \n",
    "nums = get_random()\n",
    "%time %memit heap_sort(nums)\n",
    "print(f'\\nafter: {nums}')     "
   ]
  },
  {
   "cell_type": "code",
   "execution_count": null,
   "metadata": {},
   "outputs": [],
   "source": []
  }
 ],
 "metadata": {
  "kernelspec": {
   "display_name": "python3_venv_common",
   "language": "python",
   "name": "common"
  },
  "language_info": {
   "codemirror_mode": {
    "name": "ipython",
    "version": 3
   },
   "file_extension": ".py",
   "mimetype": "text/x-python",
   "name": "python",
   "nbconvert_exporter": "python",
   "pygments_lexer": "ipython3",
   "version": "3.7.6"
  }
 },
 "nbformat": 4,
 "nbformat_minor": 4
}
