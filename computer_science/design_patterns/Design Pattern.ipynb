{
 "cells": [
  {
   "cell_type": "markdown",
   "metadata": {},
   "source": [
    "## Singleton"
   ]
  },
  {
   "cell_type": "code",
   "execution_count": 1,
   "metadata": {
    "collapsed": false
   },
   "outputs": [
    {
     "name": "stdout",
     "output_type": "stream",
     "text": [
      "4516729472\n",
      "4516729472\n"
     ]
    }
   ],
   "source": [
    "class SingletonMeta(type):\n",
    "    _instance = None\n",
    "    def __call__(self):\n",
    "        if self._instance is None:\n",
    "            self._instance = super.__call__()\n",
    "        return self._instance\n",
    "\n",
    "class Singleton(metaclass=SingletonMeta):\n",
    "    def some_business_logic(self):\n",
    "        print('hello singleton')\n",
    "\n",
    "if __name__=='__main__':\n",
    "    s1 = Singleton()\n",
    "    s2 = Singleton()\n",
    "    \n",
    "    print(id(s1))\n",
    "    print(id(s2))"
   ]
  },
  {
   "cell_type": "code",
   "execution_count": 8,
   "metadata": {
    "collapsed": false
   },
   "outputs": [
    {
     "name": "stdout",
     "output_type": "stream",
     "text": [
      "Spade 5\n",
      "Heart 4\n",
      "Dimond 1\n",
      "Spade 10\n",
      "Heart 3\n",
      "Heart 5\n",
      "Spade 6\n",
      "Dimond 4\n",
      "Spade 7\n",
      "Spade 11\n",
      "Spade 13\n",
      "Dimond 2\n",
      "Dimond 13\n",
      "Heart 8\n",
      "Heart 11\n",
      "Spade 12\n",
      "Club 8\n",
      "Dimond 5\n",
      "Spade 3\n",
      "Dimond 12\n",
      "Spade 4\n",
      "Heart 2\n",
      "Club 12\n",
      "Heart 7\n",
      "Heart 1\n",
      "Heart 9\n",
      "Club 11\n",
      "Club 9\n",
      "Club 3\n",
      "Spade 1\n",
      "Heart 6\n",
      "Spade 9\n",
      "Dimond 10\n",
      "Club 5\n",
      "Spade 2\n",
      "Spade 8\n",
      "Club 13\n",
      "Heart 10\n",
      "Club 7\n",
      "Dimond 9\n",
      "Dimond 6\n",
      "Club 10\n",
      "Heart 12\n",
      "Club 6\n",
      "Dimond 3\n",
      "Club 1\n",
      "Club 2\n",
      "Dimond 7\n",
      "Dimond 11\n",
      "Dimond 8\n",
      "Club 4\n",
      "Heart 13\n"
     ]
    }
   ],
   "source": [
    "from enum import Enum\n",
    "from random import shuffle\n",
    "class Suit(Enum):\n",
    "    Dimond, Heart, Spade, Club = 1, 2, 3, 4\n",
    "\n",
    "class Card:\n",
    "    def __init__(self, value, suit):\n",
    "        self.value = value\n",
    "        self.suit = suit\n",
    "\n",
    "class Deck:\n",
    "    def __init__(self):\n",
    "        self.card_deck = []\n",
    "        \n",
    "        for i in range(1, 14):\n",
    "            for suit in Suit:\n",
    "                self.card_deck.append(Card(i, suit))\n",
    "        \n",
    "    def show_cards(self):\n",
    "        for card in self.card_deck:\n",
    "            print(card.suit.name, card.value)\n",
    "    \n",
    "    def shuffle(self):\n",
    "        shuffle(self.card_deck)\n",
    "\n",
    "deck = Deck()\n",
    "#deck.show_cards()\n",
    "deck.shuffle()\n",
    "deck.show_cards()\n"
   ]
  },
  {
   "cell_type": "code",
   "execution_count": null,
   "metadata": {
    "collapsed": true
   },
   "outputs": [],
   "source": []
  }
 ],
 "metadata": {
  "kernelspec": {
   "display_name": "python3_venv_common",
   "language": "python",
   "name": "common"
  },
  "language_info": {
   "codemirror_mode": {
    "name": "ipython",
    "version": 3
   },
   "file_extension": ".py",
   "mimetype": "text/x-python",
   "name": "python",
   "nbconvert_exporter": "python",
   "pygments_lexer": "ipython3",
   "version": "3.7.6"
  }
 },
 "nbformat": 4,
 "nbformat_minor": 0
}
