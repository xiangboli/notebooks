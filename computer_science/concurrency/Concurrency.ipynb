{
 "cells": [
  {
   "cell_type": "markdown",
   "metadata": {},
   "source": [
    "## Mutex Lock"
   ]
  },
  {
   "cell_type": "code",
   "execution_count": 6,
   "metadata": {
    "collapsed": false
   },
   "outputs": [
    {
     "name": "stdout",
     "output_type": "stream",
     "text": [
      "Testing update. Starting value is 0.\n",
      "Thread 0: starting updateThread 1: starting update\n",
      "Thread 0 has lock\n",
      "\n",
      "Thread 0 about to release lock\n",
      "Threading 0: finishing update\n",
      "Thread 1 has lock\n",
      "Thread 1 about to release lock\n",
      "Threading 1: finishing update\n",
      "Testing update. Ending value is 2.\n"
     ]
    }
   ],
   "source": [
    "import time\n",
    "from concurrent import futures\n",
    "import threading\n",
    "class FakeDatabase:\n",
    "    def __init__(self):\n",
    "        self.value = 0\n",
    "        self._lock = threading.Lock()\n",
    "    \n",
    "    def update(self, name):\n",
    "        print(f'Thread {name}: starting update')\n",
    "        with self._lock:\n",
    "            print(f\"Thread {name} has lock\")\n",
    "            local_copy = self.value\n",
    "            local_copy += 1\n",
    "            time.sleep(1)\n",
    "            self.value = local_copy\n",
    "            print(f\"Thread {name} about to release lock\")\n",
    "        print(f'Threading {name}: finishing update')\n",
    "    \n",
    "\n",
    "if __name__==\"__main__\":\n",
    "    database = FakeDatabase()\n",
    "    print(f\"Testing update. Starting value is {database.value}.\")\n",
    "    with futures.ThreadPoolExecutor(max_workers = 2) as executor:\n",
    "        for index in range(2):\n",
    "            executor.submit(database.update, index)\n",
    "    \n",
    "    print(f\"Testing update. Ending value is {database.value}.\")"
   ]
  },
  {
   "cell_type": "markdown",
   "metadata": {},
   "source": [
    "## Semaphore"
   ]
  },
  {
   "cell_type": "code",
   "execution_count": 16,
   "metadata": {
    "collapsed": false
   },
   "outputs": [
    {
     "name": "stdout",
     "output_type": "stream",
     "text": [
      "+enqueue:0, deque([0])\n",
      "-dequeue:0, deque([])\n",
      "+enqueue:1, deque([1])\n",
      "+enqueue:2, deque([1, 2])\n",
      "-dequeue:1, deque([2])\n",
      "+enqueue:3, deque([2, 3])\n",
      "-dequeue:2, deque([3])\n",
      "+enqueue:5, deque([3, 5])\n",
      "-dequeue:3, deque([5])\n",
      "+enqueue:6, deque([5, 6])\n",
      "-dequeue:5, deque([6])\n",
      "+enqueue:7, deque([6, 7])\n",
      "-dequeue:6, deque([7])\n",
      "+enqueue:8, deque([7, 8])\n",
      "-dequeue:7, deque([8])\n",
      "+enqueue:9, deque([8, 9])\n",
      "-dequeue:8, deque([9])\n",
      "-dequeue:9, deque([])\n",
      "+enqueue:4, deque([4])\n",
      "-dequeue:4, deque([])\n"
     ]
    }
   ],
   "source": [
    "import threading\n",
    "from collections import deque\n",
    "from concurrent import futures\n",
    "class BoundedBlockingQueue:\n",
    "    def __init__(self, capacity):\n",
    "        self.capacity = capacity\n",
    "        self.queue = deque()\n",
    "        self.enque_semaphore = threading.Semaphore(capacity)\n",
    "        self.deque_semaphore = threading.Semaphore(0)\n",
    "        self._lock = threading.Lock()\n",
    "    \n",
    "    def enque(self, val):\n",
    "        self.enque_semaphore.acquire()\n",
    "        with self._lock:\n",
    "            self.queue.append(val)\n",
    "            print(f'+enqueue:{val}, {self.queue}')\n",
    "        self.deque_semaphore.release()\n",
    "    \n",
    "    def deque(self):\n",
    "        self.deque_semaphore.acquire()\n",
    "        with self._lock:\n",
    "            val = self.queue.popleft()\n",
    "            print(f'-dequeue:{val}, {self.queue}')\n",
    "        self.enque_semaphore.release()\n",
    "        return val\n",
    "    \n",
    "    def size(self):\n",
    "        return len(self.queue)\n",
    "\n",
    "if __name__==\"__main__\":\n",
    "    bbq = BoundedBlockingQueue(5)\n",
    "    \n",
    "    with futures.ThreadPoolExecutor(max_workers = 4) as executor:\n",
    "        for num in range(10):\n",
    "            executor.submit(bbq.enque, num)\n",
    "            executor.submit(bbq.deque)\n",
    "            "
   ]
  },
  {
   "cell_type": "markdown",
   "metadata": {
    "collapsed": true
   },
   "source": [
    "## Coroutine"
   ]
  },
  {
   "cell_type": "code",
   "execution_count": 6,
   "metadata": {
    "collapsed": false
   },
   "outputs": [
    {
     "name": "stdout",
     "output_type": "stream",
     "text": [
      "hello world\n",
      "Exiting coroutine...\n",
      "Marco, age:33\n"
     ]
    }
   ],
   "source": [
    "def bare_bones():\n",
    "    try:\n",
    "        while True:\n",
    "            value = (yield)\n",
    "            print(value)\n",
    "    except GeneratorExit:\n",
    "        print(\"Exiting coroutine...\")\n",
    "\n",
    "coroutine = bare_bones()\n",
    "next(coroutine)\n",
    "coroutine.send('hello world')\n",
    "coroutine.close()\n",
    "\n",
    "def filter_line(num):\n",
    "    while True:\n",
    "        line = (yield)\n",
    "        if num in line:\n",
    "            print(line)\n",
    "\n",
    "cor = filter_line(\"33\")\n",
    "next(cor)\n",
    "cor.send(\"Jessica, age:24\")\n",
    "cor.send(\"Marco, age:33\")\n",
    "cor.send(\"Filipe, age:55\")"
   ]
  },
  {
   "cell_type": "markdown",
   "metadata": {},
   "source": [
    "## Asyncio"
   ]
  },
  {
   "cell_type": "code",
   "execution_count": 12,
   "metadata": {
    "collapsed": false
   },
   "outputs": [
    {
     "name": "stdout",
     "output_type": "stream",
     "text": [
      "One\n",
      "One\n",
      "One\n",
      "Two\n",
      "Two\n",
      "Two\n",
      "executed in 1.00 seconds.\n"
     ]
    }
   ],
   "source": [
    "import asyncio\n",
    "\n",
    "async def count():\n",
    "    print(\"One\")\n",
    "    await asyncio.sleep(1)\n",
    "    print(\"Two\")\n",
    "\n",
    "async def main():\n",
    "    await asyncio.gather(count(), count(), count())\n",
    "\n",
    "if __name__ == \"__main__\":\n",
    "    import time\n",
    "    s = time.perf_counter()\n",
    "    await main()\n",
    "    # asyncio.run(main())\n",
    "    elapsed = time.perf_counter() - s\n",
    "    print(f\"executed in {elapsed:0.2f} seconds.\")"
   ]
  },
  {
   "cell_type": "code",
   "execution_count": null,
   "metadata": {
    "collapsed": true
   },
   "outputs": [],
   "source": []
  }
 ],
 "metadata": {
  "kernelspec": {
   "display_name": "python3_venv_common",
   "language": "python",
   "name": "common"
  },
  "language_info": {
   "codemirror_mode": {
    "name": "ipython",
    "version": 3
   },
   "file_extension": ".py",
   "mimetype": "text/x-python",
   "name": "python",
   "nbconvert_exporter": "python",
   "pygments_lexer": "ipython3",
   "version": "3.7.6"
  }
 },
 "nbformat": 4,
 "nbformat_minor": 0
}
